{
 "cells": [
  {
   "cell_type": "code",
   "execution_count": 1,
   "metadata": {},
   "outputs": [],
   "source": [
    "import numpy as np\n",
    "from french_lefff_lemmatizer.french_lefff_lemmatizer import FrenchLefffLemmatizer\n",
    "\n",
    "l2 = FrenchLefffLemmatizer()"
   ]
  },
  {
   "cell_type": "markdown",
   "metadata": {},
   "source": [
    "# Load WOLF vocabulary"
   ]
  },
  {
   "cell_type": "code",
   "execution_count": 75,
   "metadata": {},
   "outputs": [],
   "source": [
    "file = open('../TextFineTuning/vocabulary_pos_wolf.txt', mode='r')\n",
    "data = file.read()\n",
    "file.close()\n",
    "word_list = data.strip().split('\\n')"
   ]
  },
  {
   "cell_type": "code",
   "execution_count": 33,
   "metadata": {},
   "outputs": [],
   "source": [
    "word_list = np.load('./data/output_130219/word_list.npy')a"
   ]
  },
  {
   "cell_type": "code",
   "execution_count": 76,
   "metadata": {},
   "outputs": [
    {
     "data": {
      "text/plain": [
       "56665"
      ]
     },
     "execution_count": 76,
     "metadata": {},
     "output_type": "execute_result"
    }
   ],
   "source": [
    "len(word_list)"
   ]
  },
  {
   "cell_type": "code",
   "execution_count": 77,
   "metadata": {},
   "outputs": [],
   "source": [
    "word_amb = set()\n",
    "for word in word_list:\n",
    "    word_amb.add(word.rsplit('_',1)[0])"
   ]
  },
  {
   "cell_type": "code",
   "execution_count": 78,
   "metadata": {},
   "outputs": [
    {
     "data": {
      "text/plain": [
       "55108"
      ]
     },
     "execution_count": 78,
     "metadata": {},
     "output_type": "execute_result"
    }
   ],
   "source": [
    "len(word_amb)"
   ]
  },
  {
   "cell_type": "markdown",
   "metadata": {},
   "source": [
    "# Load Test Sets"
   ]
  },
  {
   "cell_type": "code",
   "execution_count": 52,
   "metadata": {},
   "outputs": [],
   "source": [
    "file = open('../Similarity-Association-Benchmarks/fr-simlex.dataset', mode='r')\n",
    "data = file.readlines()\n",
    "file.close()"
   ]
  },
  {
   "cell_type": "code",
   "execution_count": 53,
   "metadata": {},
   "outputs": [],
   "source": [
    "simlex = []\n",
    "to_process = []\n",
    "for line in data:\n",
    "    word1, word2, score = line.strip().split(';')\n",
    "    wp1 = l2.lemmatize(word1, 'all')\n",
    "    wp2 = l2.lemmatize(word2, 'all')\n",
    "    output_flag = False\n",
    "    for lemme1, pos1 in wp1:\n",
    "        for lemme2, pos2 in wp2:\n",
    "            if pos1 == pos2:\n",
    "                output_flag = True\n",
    "                simlex.append((lemme1+'_'+pos1, lemme2+'_'+pos2, score))\n",
    "    if not output_flag:\n",
    "        to_process.append((word1, word2, score))"
   ]
  },
  {
   "cell_type": "code",
   "execution_count": 4,
   "metadata": {},
   "outputs": [
    {
     "data": {
      "text/plain": [
       "(1028, 80)"
      ]
     },
     "execution_count": 4,
     "metadata": {},
     "output_type": "execute_result"
    }
   ],
   "source": [
    "len(simlex), len(to_process)"
   ]
  },
  {
   "cell_type": "code",
   "execution_count": 54,
   "metadata": {},
   "outputs": [
    {
     "data": {
      "text/plain": [
       "(1045, 60)"
      ]
     },
     "execution_count": 54,
     "metadata": {},
     "output_type": "execute_result"
    }
   ],
   "source": [
    "len(simlex), len(to_process)"
   ]
  },
  {
   "cell_type": "code",
   "execution_count": 56,
   "metadata": {},
   "outputs": [],
   "source": [
    "simlex += [('content_adj', 'de_bonne_humeur_adj', '9.31'),\n",
    " ('vite_adj', 'rapide_adj', '9.85'),\n",
    " ('content_adj', 'en_colère_adj', '0.0'),\n",
    " ('peu_coûteux_adj', 'pas_cher_adj', '9.69'),\n",
    " # ('peur', 'anxieux_adj', '6.92'), ## ATTENTION\n",
    " ('délicieux_adj', 'de_bonne_humeur_adj', '8.46'),\n",
    " ('violent_adj', 'en_colère_adj', '5.92'),\n",
    " ('sale_adj', 'pas_cher_adj', '0.77'),\n",
    " ('jeune_marié_n', 'jeune_mariée_n', '3.17'),\n",
    " ('coucher_de_soleil_n', 'lever_du_soleil_n', '0.08'),\n",
    " ('papier_n', 'papier_carton_n', '3.54'),\n",
    " ('œil_n', 'larme_n', '1.31'),\n",
    " ('taille_n', 'ordre_de_grandeur_n', '6.0'),\n",
    " ('chat_n', 'animal_de_compagnie_n', '2.69'),\n",
    " # ('abondance_n', 'beaucoup_b', '7.54'), ## ATTENTION\n",
    " ('lit_n', 'lit_de_bébé_n', '3.15'),\n",
    " ('lit_de_bébé_n', 'berceau_n', '6.77'),\n",
    " ('salle_de_bains_n', 'chambre_n', '1.46'),\n",
    " ('cœur_n', 'chirurgie_n', '1.15'),\n",
    " ('fin_de_semaine_n', 'semaine_n', '3.0'),\n",
    " ('sac_à_main_n', 'sac_n', '4.46'),\n",
    " ('bétail_n', 'bœuf_n', '3.38'),\n",
    " ('assistant_n', 'femme_de_ménage_n', '2.92'),\n",
    " ('basketball_n', 'base-ball_n', '1.77'),\n",
    " ('beurre_n', 'pomme_de_terre_n', '0.46'),\n",
    " ('profondeur_n', 'ordre_de_grandeur_n', '6.38'),\n",
    " ('linge_de_maison_n', 'tissu_n', '6.15'),\n",
    " ('coucher_de_soleil_n', 'soir_n', '5.38'),\n",
    " ('corps_n', 'colonne_vertébrale_n', '2.38'),\n",
    " ('front_n', 'œil_n', '2.23'),\n",
    " ('salle_de_bains_n', 'cuisine_n', '2.23'),\n",
    " ('idée_n', 'schème_n', '6.62'),\n",
    " ('salle_de_classe_n', 'couloir_n', '2.38'),\n",
    " ('cheval_n', 'bœuf_n', '1.08'),\n",
    " ('cou_n', 'colonne_vertébrale_n', '2.54'),\n",
    " ('fille_n', 'femme_de_ménage_n', '2.46'),\n",
    " ('se_produire_v', 'avoir_lieu_v', '9.32'),\n",
    "            ('se_dissiper_v', 'disparaître_v', '9.8'),\n",
    " (\"se_mettre_d'accord_v\", 'se_disputer_v', '0.92'),\n",
    " ('prendre_plaisir_v', 'divertir_v', '4.85'),\n",
    " (\"se_mettre_d'accord_v\", 'différer_v', '1.08'),\n",
    " ('se_disputer_v', 'rationaliser_v', '4.58'),\n",
    " ('faire_v', 'se_produire_v', '2.31'),\n",
    " ('faire_semblant_v', 'imaginer_v', '6.69'),\n",
    " ('satisfaire_v', 'faire_plaisir_v', '6.08'),\n",
    " ('se_disputer_v', 'différer_v', '5.69'),\n",
    " ('se_comporter_v', 'obéir_v', '7.0'),\n",
    " ('faire_plaisir_v', 'plaider_v', '1.08'),\n",
    " ('se_disputer_v', 'prouver_v', '4.08'),\n",
    " ('se_disputer_v', 'justifier_v', '4.23'),\n",
    " ('découvrir_v', 'être_originaire_de_v', '1.92'),\n",
    " ('assumer_v', 'faire_semblant_v', '2.38'),\n",
    " (\"se_mettre_d'accord_v\", 'faire_plaisir_v', '1.15'),\n",
    " ('prendre_conscience_de_v', 'découvrir_v', '3.15'),\n",
    " ('se_disputer_v', 'persuader_v', '4.08'),\n",
    " ('se_plaindre_v', 'se_disputer_v', '4.15'),\n",
    " ('se_désister_v', 'rejeter_v', '5.23'),\n",
    " ('faire_semblant_v', 'sembler_v', '3.77'),\n",
    " ('faire_plaisir_v', 'divertir_v', '1.92'),\n",
    " ('faire_semblant_n', 'représenter_v', '2.15')]"
   ]
  },
  {
   "cell_type": "code",
   "execution_count": 23,
   "metadata": {},
   "outputs": [],
   "source": [
    "file = open('./data/input/French_POS_testset/fr-ws353-rel.dataset', mode='r')\n",
    "data = file.readlines()\n",
    "file.close()"
   ]
  },
  {
   "cell_type": "code",
   "execution_count": 24,
   "metadata": {},
   "outputs": [],
   "source": [
    "wsrel = []\n",
    "to_process = []\n",
    "for line in data:\n",
    "    word1, word2, score = line.strip().split(';')\n",
    "    wp1 = l2.lemmatize(word1, 'all')\n",
    "    wp2 = l2.lemmatize(word2, 'all')\n",
    "    output_flag = False\n",
    "    if isinstance(wp1, tuple):\n",
    "        wp1 = [wp1]\n",
    "    if isinstance(wp2, tuple):\n",
    "        wp2 = [wp2]\n",
    "    for lemme1, pos1 in wp1:\n",
    "        for lemme2, pos2 in wp2:\n",
    "            if pos1 == pos2:\n",
    "                output_flag = True\n",
    "                wsrel.append((lemme1+'_'+pos1, lemme2+'_'+pos2, score))\n",
    "    if not output_flag:\n",
    "        to_process.append((word1, word2, score))"
   ]
  },
  {
   "cell_type": "code",
   "execution_count": 57,
   "metadata": {},
   "outputs": [
    {
     "data": {
      "text/plain": [
       "(250, 19)"
      ]
     },
     "execution_count": 57,
     "metadata": {},
     "output_type": "execute_result"
    }
   ],
   "source": [
    "len(wsrel), len(to_process)"
   ]
  },
  {
   "cell_type": "code",
   "execution_count": 25,
   "metadata": {},
   "outputs": [
    {
     "data": {
      "text/plain": [
       "(250, 19)"
      ]
     },
     "execution_count": 25,
     "metadata": {},
     "output_type": "execute_result"
    }
   ],
   "source": [
    "len(wsrel), len(to_process)"
   ]
  },
  {
   "cell_type": "code",
   "execution_count": 26,
   "metadata": {},
   "outputs": [],
   "source": [
    "wsrel += [('Maradona_n', 'football_n', '8.62'),\n",
    " ('OPEP_n', 'huile_n', '8.59'),\n",
    " ('FBI_n', 'enquête_n', '8.31'),\n",
    " ('psychologie_n', 'Freud_n', '8.21'),\n",
    " ('Jérusalem_n', 'Palestine_n', '7.65'),\n",
    " ('Arafat_n', 'terreur_n', '7.65'),\n",
    " ('psychologie_n', 'cognition_n', '7.48'),\n",
    " ('fruits_de_mer_n', 'mer_n', '7.47'),\n",
    " ('cent_n', 'pour_cent_n', '7.38'),\n",
    " ('FBI_n', 'empreinte_digitale_n', '6.94'),\n",
    " ('Arafat_n', 'paix_n', '6.73'),\n",
    " ('fertilité_n', 'œuf_n', '6.69'),\n",
    " ('famille_n', 'planification_n', '6.25'),\n",
    " ('film_n', 'popcorn_n', '6.19'),\n",
    " ('OPEP_n', 'pays_n', '5.63'),\n",
    " ('téléspectateur_n', 'feuilleton_n', '2.97'),\n",
    " ('précédent_n', 'cognition_n', '2.81'),\n",
    " ('stock_n', 'œuf_n', '1.81'),\n",
    " ('stock_n', 'CD_n', '1.31')]"
   ]
  },
  {
   "cell_type": "markdown",
   "metadata": {},
   "source": [
    "# Get Benchmark vocabulary"
   ]
  },
  {
   "cell_type": "code",
   "execution_count": 81,
   "metadata": {},
   "outputs": [],
   "source": [
    "pos_dict = {\n",
    "    'adj': 'a',\n",
    "    'adv': 'b',\n",
    "    'nc': 'n',\n",
    "    'np': 'n',\n",
    "    'n': 'n',\n",
    "    'a': 'a',\n",
    "    'b': 'b',\n",
    "    'v': 'v'\n",
    "}\n",
    "\n",
    "wolf_voc = set(word_list)"
   ]
  },
  {
   "cell_type": "code",
   "execution_count": 62,
   "metadata": {},
   "outputs": [],
   "source": [
    "overwrite_check = False\n",
    "if overwrite_check:\n",
    "    file = open('../Similarity-Association-Benchmarks/fr-simlex-pos0.dataset', mode='w+')\n",
    "    for each in simlex:\n",
    "        file.write(';'.join(each)+'\\n')\n",
    "    file.close()"
   ]
  },
  {
   "cell_type": "code",
   "execution_count": 63,
   "metadata": {},
   "outputs": [],
   "source": [
    "overwrite_check = False\n",
    "if overwrite_check:\n",
    "    file = open('../Similarity-Association-Benchmarks/fr-wsrel-pos0.dataset', mode='w+')\n",
    "    for each in wsrel:\n",
    "        file.write(';'.join(each)+'\\n')\n",
    "    file.close()"
   ]
  },
  {
   "cell_type": "code",
   "execution_count": 92,
   "metadata": {},
   "outputs": [],
   "source": [
    "file = open('../Similarity-Association-Benchmarks/fr-simlex-pos0.dataset', mode='r')\n",
    "data = file.readlines()\n",
    "file.close()\n",
    "\n",
    "simlex = []\n",
    "for line in data:\n",
    "    w1, w2, score = line.strip().split(';')\n",
    "    simlex.append((w1, w2, score))"
   ]
  },
  {
   "cell_type": "code",
   "execution_count": 93,
   "metadata": {},
   "outputs": [],
   "source": [
    "file = open('../Similarity-Association-Benchmarks/fr-wsrel-pos0.dataset', mode='r')\n",
    "data = file.readlines()\n",
    "file.close()\n",
    "\n",
    "wsrel = []\n",
    "for line in data:\n",
    "    w1, w2, score = line.strip().split(';')\n",
    "    wsrel.append((w1, w2, score))"
   ]
  },
  {
   "cell_type": "code",
   "execution_count": 94,
   "metadata": {},
   "outputs": [],
   "source": [
    "dup_check = dict()\n",
    "for w1, w2, _ in simlex:\n",
    "    if w1+'_'+w2 in dup_check or w2+'_'+w1 in dup_check:\n",
    "        print('Dup', w1, w2)\n",
    "    else:\n",
    "        dup_check[w1+'_'+w2] = 1\n",
    "        dup_check[w2+'_'+w1] = 1\n",
    "        "
   ]
  },
  {
   "cell_type": "code",
   "execution_count": 95,
   "metadata": {},
   "outputs": [],
   "source": [
    "benchmark_voc = set()\n",
    "for w1, w2, _ in simlex:\n",
    "    benchmark_voc.add(w1)\n",
    "    benchmark_voc.add(w2)\n",
    "\n",
    "for w1, w2, _ in wsrel:\n",
    "    benchmark_voc.add(w1)\n",
    "    benchmark_voc.add(w2)"
   ]
  },
  {
   "cell_type": "code",
   "execution_count": 96,
   "metadata": {},
   "outputs": [
    {
     "data": {
      "text/plain": [
       "1266"
      ]
     },
     "execution_count": 96,
     "metadata": {},
     "output_type": "execute_result"
    }
   ],
   "source": [
    "len(benchmark_voc)"
   ]
  },
  {
   "cell_type": "code",
   "execution_count": 97,
   "metadata": {},
   "outputs": [
    {
     "name": "stdout",
     "output_type": "stream",
     "text": [
      "Not recognized: pas_cher_adj\n",
      "Not recognized: Maradona_n\n",
      "Not matched: terne_nc\n",
      "Not recognized: motel_nc\n",
      "Not recognized: se_plaindre_v\n",
      "Not recognized: animal_de_compagnie_n\n",
      "Not matched: élastique_adj\n",
      "Not recognized: troupe_nc\n",
      "Not recognized: chargé_adj\n",
      "Not recognized: se_disputer_v\n",
      "Not recognized: ignorer_v\n",
      "Not recognized: crucial_adj\n",
      "Not recognized: prendre_plaisir_v\n",
      "Not recognized: faire_plaisir_v\n",
      "Not recognized: soi_nc\n",
      "Not recognized: être_originaire_de_v\n",
      "Not recognized: désorganiser_v\n",
      "Not recognized: se_désister_v\n",
      "Not recognized: média_nc\n",
      "Not recognized: sécheresse_nc\n",
      "Not recognized: proéminence_nc\n",
      "Not recognized: agité_adj\n",
      "Not recognized: lit_de_bébé_n\n",
      "Not recognized: se_mettre_d'accord_v\n",
      "Not recognized: criminalité_nc\n",
      "Not recognized: se_dissiper_v\n",
      "Not recognized: pendre_v\n",
      "Not recognized: popcorn_n\n",
      "Not matched: morne_nc\n",
      "Not recognized: conquête_nc\n",
      "Not recognized: cognition_n\n",
      "Not recognized: saleté_nc\n",
      "Not recognized: linge_de_maison_n\n",
      "Not recognized: bacon_nc\n",
      "Not matched: vite_adj\n",
      "Not recognized: rebord_nc\n",
      "Not recognized: schème_n\n",
      "Not recognized: rationaliser_v\n",
      "Not recognized: renfoncement_nc\n",
      "Not recognized: périple_nc\n",
      "Not recognized: bol_nc\n",
      "Not recognized: suintement_nc\n",
      "Not recognized: papier_carton_n\n",
      "Not recognized: de_bonne_humeur_adj\n",
      "Not recognized: prendre_conscience_de_v\n",
      "Not recognized: bocal_nc\n",
      "Not recognized: oracle_nc\n"
     ]
    }
   ],
   "source": [
    "benchmark_dict = {}\n",
    "to_process = set()\n",
    "to_process_2 = set()\n",
    "\n",
    "for word_pos in benchmark_voc:\n",
    "    word, pos = word_pos.rsplit('_', 1)\n",
    "    if word not in word_amb:\n",
    "        to_process.add(word_pos)\n",
    "        print('Not recognized:', word_pos)\n",
    "    else:\n",
    "        if word+'_'+pos_dict[pos] not in wolf_voc:\n",
    "            to_process_2.add(word_pos)\n",
    "            print('Not matched:', word_pos)\n",
    "        else:\n",
    "            benchmark_dict[word_pos]=word+'_'+pos_dict[pos]"
   ]
  },
  {
   "cell_type": "code",
   "execution_count": 91,
   "metadata": {},
   "outputs": [],
   "source": [
    "manual_dict = { 'bacon_nc': 'lard_n',\n",
    " 'se_disputer_v': 'disputer_v',\n",
    " 'se_dissiper_v': 'dissiper_v',\n",
    " 'se_désister_v': 'désister_v',\n",
    " \"se_mettre_d'accord_v\": \"être_d'accord_v\",\n",
    " 'se_plaindre_v': 'plaindre_v',\n",
    " 'troupe_nc': 'troupes_n',\n",
    " 'vite_adj': 'vite_b',\n",
    "               'terne_nc': 'terne_a', \n",
    "               'élastique_adj': 'élastique_n',\n",
    "               'morne_nc': 'morne_a'\n",
    " }"
   ]
  },
  {
   "cell_type": "code",
   "execution_count": 100,
   "metadata": {},
   "outputs": [],
   "source": [
    "benchmark_dict.update(manual_dict)"
   ]
  },
  {
   "cell_type": "code",
   "execution_count": 102,
   "metadata": {},
   "outputs": [],
   "source": [
    "overwrite_check = False\n",
    "if overwrite_check:\n",
    "    file = open('../Similarity-Association-Benchmarks/fr-simlex-pos1.dataset', mode='w+')\n",
    "    for w1, w2, score in simlex:\n",
    "        if w1 in benchmark_dict:\n",
    "            w1 = benchmark_dict[w1]\n",
    "        else:\n",
    "            word, pos = w1.rsplit('_', 1)\n",
    "            w1 = word+'_'+pos_dict[pos]\n",
    "        if w2 in benchmark_dict:\n",
    "            w2 = benchmark_dict[w2]\n",
    "        else:\n",
    "            word, pos = w2.rsplit('_', 1)\n",
    "            w2 = word+'_'+pos_dict[pos]\n",
    "        file.write(';'.join((w1, w2, score))+'\\n')\n",
    "    file.close()"
   ]
  },
  {
   "cell_type": "code",
   "execution_count": 103,
   "metadata": {},
   "outputs": [],
   "source": [
    "overwrite_check = False\n",
    "if overwrite_check:\n",
    "    file = open('../Similarity-Association-Benchmarks/fr-wsrel-pos1.dataset', mode='w+')\n",
    "    for w1, w2, score in wsrel:\n",
    "        if w1 in benchmark_dict:\n",
    "            w1 = benchmark_dict[w1]\n",
    "        else:\n",
    "            word, pos = w1.rsplit('_', 1)\n",
    "            w1 = word+'_'+pos_dict[pos]\n",
    "        if w2 in benchmark_dict:\n",
    "            w2 = benchmark_dict[w2]\n",
    "        else:\n",
    "            word, pos = w2.rsplit('_', 1)\n",
    "            w2 = word+'_'+pos_dict[pos]\n",
    "        file.write(';'.join((w1, w2, score))+'\\n')\n",
    "    file.close()"
   ]
  },
  {
   "cell_type": "markdown",
   "metadata": {},
   "source": [
    "# Test with Embedding"
   ]
  },
  {
   "cell_type": "code",
   "execution_count": null,
   "metadata": {},
   "outputs": [],
   "source": []
  }
 ],
 "metadata": {
  "kernelspec": {
   "display_name": "Python 3",
   "language": "python",
   "name": "python3"
  },
  "language_info": {
   "codemirror_mode": {
    "name": "ipython",
    "version": 3
   },
   "file_extension": ".py",
   "mimetype": "text/x-python",
   "name": "python",
   "nbconvert_exporter": "python",
   "pygments_lexer": "ipython3",
   "version": "3.6.7"
  }
 },
 "nbformat": 4,
 "nbformat_minor": 2
}
